{
 "cells": [
  {
   "cell_type": "markdown",
   "metadata": {},
   "source": [
    "# Network inference from Brian network"
   ]
  },
  {
   "cell_type": "code",
   "execution_count": 32,
   "metadata": {},
   "outputs": [],
   "source": [
    "from brian2 import *\n",
    "import pandas as pd\n",
    "%matplotlib inline\n",
    "\n",
    "filename = None#\"data_N1000_T300_aEIF_conductsyn\"\n",
    "\n",
    "Nneurons_obs = 30  # number of neurons whose spike trains are observed\n",
    "Nneurons_tot = 1000  # number of neurons in total;\n",
    "sim_t = 30*second #simulation time\n",
    "rate_min = 5\n",
    "\n",
    "set_device('cpp_standalone')\n"
   ]
  },
  {
   "cell_type": "markdown",
   "metadata": {},
   "source": [
    "### Network"
   ]
  },
  {
   "cell_type": "code",
   "execution_count": 34,
   "metadata": {},
   "outputs": [
    {
     "name": "stdout",
     "output_type": "stream",
     "text": [
      "('Number of excitatory neurons:', 800)\n",
      "('Number of inhibitory neurons:', 200)\n"
     ]
    },
    {
     "name": "stderr",
     "output_type": "stream",
     "text": [
      "WARNING    neurongroup_1's variable 'w' has NaN, very large values, or encountered an error in numerical integration. This is usually a sign that an unstable or invalid integration method was chosen. [brian2.groups.group.invalid_values]\n",
      "WARNING    neurongroup_1's variable 'vm' has NaN, very large values, or encountered an error in numerical integration. This is usually a sign that an unstable or invalid integration method was chosen. [brian2.groups.group.invalid_values]\n",
      "WARNING    neurongroup_1_subgroup_1's variable 'w' has NaN, very large values, or encountered an error in numerical integration. This is usually a sign that an unstable or invalid integration method was chosen. [brian2.groups.group.invalid_values]\n",
      "WARNING    neurongroup_1_subgroup_1's variable 'vm' has NaN, very large values, or encountered an error in numerical integration. This is usually a sign that an unstable or invalid integration method was chosen. [brian2.groups.group.invalid_values]\n",
      "WARNING    neurongroup_1_subgroup's variable 'w' has NaN, very large values, or encountered an error in numerical integration. This is usually a sign that an unstable or invalid integration method was chosen. [brian2.groups.group.invalid_values]\n",
      "WARNING    neurongroup_1_subgroup's variable 'vm' has NaN, very large values, or encountered an error in numerical integration. This is usually a sign that an unstable or invalid integration method was chosen. [brian2.groups.group.invalid_values]\n",
      "WARNING    /Library/Frameworks/Python.framework/Versions/2.7/lib/python2.7/site-packages/brian2/units/fundamentalunits.py:1407: RuntimeWarning: overflow encountered in true_divide\n",
      "  rdiv = lambda a, b: operator.truediv(b, a)\n",
      " [py.warnings]\n"
     ]
    },
    {
     "name": "stdout",
     "output_type": "stream",
     "text": [
      "File saved: data_N1000_T30_aEIF_cortical\n"
     ]
    }
   ],
   "source": [
    "device.reinit()\n",
    "device.activate()\n",
    "\n",
    "if filename is None: #only simulate new network if required\n",
    "    \n",
    "    ######################\n",
    "    ##### PARAMETERS #####\n",
    "    ######################\n",
    "    N_e = int(0.8*Nneurons_tot) #number of excitatory neurons\n",
    "    N_i = Nneurons_tot - N_e #number of inhibitory neurons\n",
    "    \n",
    "    # neuron model parameters:\n",
    "    C = 150*pF \n",
    "    gL = 10 * nS\n",
    "    taum = C / gL\n",
    "    EL = -70.0 * mV\n",
    "    VT = -50.0 * mV\n",
    "    T_ref = 5.0*ms\n",
    "    DeltaT = 2.5 * mV\n",
    "    Vcut = VT + 5 * DeltaT #+5*DeltaT\n",
    "    tau_ext = 2.0*ms\n",
    "    g_ext_I = 1.62 * nS\n",
    "    \n",
    "    # external stimuli\n",
    "    rate = 10 * Hz\n",
    "    \n",
    "    # Pick an electrophysiological behaviour\n",
    "    tauw, a, b, Vr = 500*ms, 1*nS, 0.04*nA, -70.0*mV \n",
    "    \n",
    "    # Synapses\n",
    "    pe = 0.1 #excitatory connection probability\n",
    "    pi = 0.2 #inhibitory connection probability\n",
    "    d = 1.0 #synaptic delay\n",
    "    # Reversal potentials\n",
    "    Ee = 0*mV #reversal potential of excitatory synapses\n",
    "    Ei = -80*mV\n",
    "    # synaptic strength  -> suggested to be large in Destexhe 2018 because of small network size!\n",
    "    we_init = 6*nS  # excitatory synaptic weight\n",
    "    wi_init = 67*nS  # inhibitory synaptic weight\n",
    "    taue = 5*ms\n",
    "    taui = 10*ms\n",
    "    \n",
    "    ge_init = 0.5*nS \n",
    "    gi_init=1.5*nS\n",
    "    \n",
    "    # input parameters:\n",
    "    np.random.seed(20)   \n",
    "    \n",
    "    print('Number of excitatory neurons:',N_e)\n",
    "    print('Number of inhibitory neurons:',N_i)\n",
    "    \n",
    "    ######################\n",
    "    ###### NETWORK #######\n",
    "    ######################   \n",
    "    eqs = '''\n",
    "    dvm/dt = (gL*(EL - vm) + gL*DeltaT*exp((vm - VT)/DeltaT) - ge*(vm-Ee) - gi*(vm-Ei) + I_ext - w)/C : volt\n",
    "    I_ext = g_ext_I * (vm - Ee) * s_ext : amp\n",
    "    ds_ext / dt = - s_ext / tau_ext : 1\n",
    "    dw/dt = (a*(vm - EL) - w)/tauw : amp \n",
    "    dge/dt = -ge/taue : siemens\n",
    "    dgi/dt = -gi/taui : siemens   \n",
    "    '''\n",
    "    # comment: here exponential synaptic time courses\n",
    "    \n",
    "    # neurons\n",
    "    G = NeuronGroup(Nneurons_tot, eqs,method='euler',\n",
    "                    threshold='vm>Vcut',\n",
    "                    reset=\"vm=Vr; w+=b\",\n",
    "                    refractory=T_ref\n",
    "                   )\n",
    "    \n",
    "    # intial values\n",
    "    G.vm = EL\n",
    "    G.ge = ge_init\n",
    "    G.gi = gi_init\n",
    "    \n",
    "    # synapses\n",
    "    Se = Synapses(G[:N_e], G, 'we: siemens', on_pre='ge += we')\n",
    "    Si = Synapses(G[N_e:], G, 'wi: siemens', on_pre='gi += wi')\n",
    "    Se.connect('i!=j', p=pe)\n",
    "    Si.connect('i!=j', p=pi)\n",
    "    Se.we = we_init#\"we_init*rand()\" # random excitatory synaptic weight (voltage)\n",
    "    Si.wi = wi_init#\"wi_init*rand()\" # random inhibitory synaptic weight\n",
    "    Se.delay = d*ms\n",
    "    Si.delay = d*ms\n",
    "    \n",
    "    # external noise\n",
    "    P = PoissonInput(G,target_var = 's_ext',N=1000,rate=rate,weight='1')\n",
    "\n",
    "    # spikes\n",
    "    spikemon = SpikeMonitor(G, record=True)\n",
    "    # voltage\n",
    "    statemon = StateMonitor(G, 'vm', record=np.arange(10))\n",
    "    # create network object\n",
    "    net = Network(P,spikemon,statemon)\n",
    "    run(sim_t, report='text')\n",
    "    \n",
    "    # # discard first 5 seconds\n",
    "    sptimes = spikemon.t/ms\n",
    "    #idx = sptimes > 5000\n",
    "    spid = spikemon.i#[idx]\n",
    "    #sptimes = sptimes[idx]\n",
    "    #sptimes -= 5000\n",
    "    statetime = statemon.t/ms#[idx]\n",
    "    statev = statemon.vm/mV#[idx]\n",
    "\n",
    "    # weights\n",
    "    Jmat = np.zeros((Nneurons_tot, Nneurons_tot))\n",
    "    Jmat[Se.i,Se.j] = Se.we/mV\n",
    "    Jmat[Si.i + N_e, Si.j] = - Si.wi/mV\n",
    "    \n",
    "    # save data as pandas dataframe\n",
    "    df = pd.DataFrame(columns=['spiketimes','spikeid','Nobs','Ntot','Jmat','Jmat_obs','obs_neurons','sim_time'])\n",
    "    df = df.append({'spiketimes': sptimes,\n",
    "                    'spikeid': np.array(spid),\n",
    "                    'statetime':statetime,\n",
    "                    'statev':statev,\n",
    "                    'Ntot': Nneurons_tot,\n",
    "                    'Jmat': Jmat,\n",
    "                    'sim_time': sim_t/second\n",
    "                    }, ignore_index=True)\n",
    "    \n",
    "    filename = 'data_N'+str(Nneurons_tot)+'_T'+str(int(sim_t/second))+'_aEIF_cortical'\n",
    "    print('File saved: %s' %filename)\n",
    "    df.to_pickle(filename+'.pkl')\n",
    "else:\n",
    "    print(\"Loading results from file: %s.pkl\" %filename)"
   ]
  },
  {
   "cell_type": "markdown",
   "metadata": {},
   "source": [
    "### Load already existing data"
   ]
  },
  {
   "cell_type": "code",
   "execution_count": 35,
   "metadata": {
    "scrolled": false
   },
   "outputs": [
    {
     "name": "stderr",
     "output_type": "stream",
     "text": [
      "WARNING    /Library/Frameworks/Python.framework/Versions/2.7/lib/python2.7/site-packages/ipykernel_launcher.py:40: RuntimeWarning: divide by zero encountered in divide\n",
      " [py.warnings]\n"
     ]
    },
    {
     "ename": "ValueError",
     "evalue": "a must be non-empty",
     "output_type": "error",
     "traceback": [
      "\u001b[0;31m---------------------------------------------------------------------------\u001b[0m",
      "\u001b[0;31mValueError\u001b[0m                                Traceback (most recent call last)",
      "\u001b[0;32m<ipython-input-35-ce7a80514cda>\u001b[0m in \u001b[0;36m<module>\u001b[0;34m()\u001b[0m\n\u001b[1;32m     60\u001b[0m \u001b[0mnp\u001b[0m\u001b[0;34m.\u001b[0m\u001b[0mrandom\u001b[0m\u001b[0;34m.\u001b[0m\u001b[0mseed\u001b[0m\u001b[0;34m(\u001b[0m\u001b[0;36m100\u001b[0m\u001b[0;34m)\u001b[0m\u001b[0;34m\u001b[0m\u001b[0m\n\u001b[1;32m     61\u001b[0m \u001b[0;34m\u001b[0m\u001b[0m\n\u001b[0;32m---> 62\u001b[0;31m \u001b[0mobs_neurons_ind\u001b[0m \u001b[0;34m=\u001b[0m \u001b[0mnp\u001b[0m\u001b[0;34m.\u001b[0m\u001b[0mrandom\u001b[0m\u001b[0;34m.\u001b[0m\u001b[0mchoice\u001b[0m\u001b[0;34m(\u001b[0m\u001b[0mnp\u001b[0m\u001b[0;34m.\u001b[0m\u001b[0mwhere\u001b[0m\u001b[0;34m(\u001b[0m\u001b[0mfr\u001b[0m\u001b[0;34m>=\u001b[0m\u001b[0mrate_min\u001b[0m\u001b[0;34m)\u001b[0m\u001b[0;34m[\u001b[0m\u001b[0;36m0\u001b[0m\u001b[0;34m]\u001b[0m\u001b[0;34m,\u001b[0m\u001b[0mNneurons_obs\u001b[0m\u001b[0;34m)\u001b[0m\u001b[0;34m\u001b[0m\u001b[0m\n\u001b[0m\u001b[1;32m     63\u001b[0m \u001b[0mJmat_obs\u001b[0m \u001b[0;34m=\u001b[0m \u001b[0mJmat\u001b[0m\u001b[0;34m[\u001b[0m\u001b[0mobs_neurons_ind\u001b[0m\u001b[0;34m,\u001b[0m\u001b[0;34m:\u001b[0m\u001b[0;34m]\u001b[0m\u001b[0;34m[\u001b[0m\u001b[0;34m:\u001b[0m\u001b[0;34m,\u001b[0m\u001b[0mobs_neurons_ind\u001b[0m\u001b[0;34m]\u001b[0m \u001b[0;31m#connectivity matrix of observed neurons\u001b[0m\u001b[0;34m\u001b[0m\u001b[0m\n\u001b[1;32m     64\u001b[0m \u001b[0;34m\u001b[0m\u001b[0m\n",
      "\u001b[0;32mmtrand.pyx\u001b[0m in \u001b[0;36mmtrand.RandomState.choice\u001b[0;34m()\u001b[0m\n",
      "\u001b[0;31mValueError\u001b[0m: a must be non-empty"
     ]
    },
    {
     "data": {
      "image/png": "[encoded data removed]",
      "text/plain": [
       "<Figure size 1080x360 with 3 Axes>"
      ]
     },
     "metadata": {},
     "output_type": "display_data"
    },
    {
     "data": {
      "text/plain": [
       "<Figure size 720x720 with 0 Axes>"
      ]
     },
     "metadata": {},
     "output_type": "display_data"
    }
   ],
   "source": [
    "# load data --------------\n",
    "if filename is not None:\n",
    "    df = pd.read_pickle(filename+\".pkl\")\n",
    "    \n",
    "sptimes = df['spiketimes'][0]\n",
    "spid = df['spikeid'][0]\n",
    "Nneurons_tot = df['Ntot'][0]\n",
    "Jmat = df['Jmat'][0]\n",
    "sim_t = df['sim_time'][0]\n",
    "\n",
    "# VISUALIZE SPIKE PROPERTIES OF OBSERVED NEURONS --------------\n",
    "ISI = {}\n",
    "ISIstat = {\n",
    "    'count':np.zeros(Nneurons_tot),\n",
    "    'mean': np.zeros(Nneurons_tot),\n",
    "    'std':np.zeros(Nneurons_tot),\n",
    "    'cv':np.zeros(Nneurons_tot)\n",
    "}\n",
    "for i_N in range(Nneurons_tot):\n",
    "    ISI[i_N] = np.diff(sptimes[spid==i_N])\n",
    "    ISIstat['count'][i_N] = len(ISI[i_N])\n",
    "    if ISIstat['count'][i_N]!=0:\n",
    "        ISIstat['mean'][i_N] = np.mean(ISI[i_N])\n",
    "        ISIstat['std'][i_N] = np.std(ISI[i_N])\n",
    "        ISIstat['cv'][i_N] = np.std(ISI[i_N])/np.mean(ISI[i_N])\n",
    "    else:\n",
    "        ISIstat['cv'][i_N] = 0\n",
    "        \n",
    "figure(figsize=(15,5))\n",
    "suptitle('Population spike train characteristics (simulation time = '+str(sim_t)+' seconds)')\n",
    "# raster\n",
    "subplot(131)\n",
    "idx = np.array(sptimes) < 1000\n",
    "plot(sptimes[idx],spid[idx],'k,',lw=0)\n",
    "ylabel('Neurons ID')\n",
    "xlabel('Time (ms)')\n",
    "\n",
    "# firing rate\n",
    "subplot(132)\n",
    "fr = 1/(ISIstat['mean']/1000)\n",
    "fr[np.isinf(fr)] = 0\n",
    "count,edges = np.histogram(fr,bins=50)\n",
    "bar(edges[1:]-edges[:-1]+edges[:-1],count,facecolor='k')\n",
    "plot([np.mean(fr),np.mean(fr)],[0,np.max(count)],'r',label='mean')\n",
    "xlabel('Firing rate (Hz)')\n",
    "ylabel('Count')\n",
    "legend()\n",
    "\n",
    "# coefficient of variation\n",
    "subplot(133)\n",
    "hist(ISIstat['cv'],50)\n",
    "xlabel('CV')\n",
    "ylabel('Count')\n",
    "#savefig('plots/%s_population.pdf' %filename)\n",
    "\n",
    "figure(figsize=(10,10))\n",
    "suptitle('ISI distribution of observed neurons')\n",
    "\n",
    "# change observed neurons id to neurons with at least mean fr=5 Hz\n",
    "np.random.seed(100)\n",
    "\n",
    "obs_neurons_ind = np.random.choice(np.where(fr>=rate_min)[0],Nneurons_obs)\n",
    "Jmat_obs = Jmat[obs_neurons_ind,:][:,obs_neurons_ind] #connectivity matrix of observed neurons\n",
    "\n",
    "nb_cols = 3\n",
    "nb_rows = int(ceil(Nneurons_obs/float(nb_cols)))\n",
    "x_max = np.max([np.max(ISI[i]) for i in obs_neurons_ind])\n",
    "\n",
    "for count,ind in enumerate(obs_neurons_ind):\n",
    "    subplot(nb_rows,nb_cols,count+1)\n",
    "    hist(ISI[ind],50,facecolor=[1,0.6,0])\n",
    "    yticks([], [])\n",
    "    xlim((0,x_max))\n",
    "    if count<(nb_rows-1)*nb_cols:\n",
    "        xticks(())\n",
    "    else:\n",
    "        xlabel('ISI (ms)')\n",
    "    \n",
    "    \n",
    "#savefig('plots/%s_ISI_dist.pdf' %filename)\n",
    "show()\n",
    "\n",
    "# into dictionary\n",
    "Spt_dict = {}\n",
    "for i_N,id_N in enumerate(obs_neurons_ind):\n",
    "    idx = np.where(spid == id_N)[0]\n",
    "    Spt_dict[i_N] = sptimes[idx]\n"
   ]
  },
  {
   "cell_type": "code",
   "execution_count": 36,
   "metadata": {},
   "outputs": [
    {
     "data": {
      "image/png": "[encoded data removed]",
      "text/plain": [
       "<Figure size 432x288 with 1 Axes>"
      ]
     },
     "metadata": {},
     "output_type": "display_data"
    }
   ],
   "source": [
    "time = 500 #ms\n",
    "plot(statetime[statetime<time],statev[:,statetime<time].T)\n",
    "ylim(-100,50)\n",
    "show()"
   ]
  },
  {
   "cell_type": "markdown",
   "metadata": {},
   "source": [
    "### Cross correlogram"
   ]
  },
  {
   "cell_type": "code",
   "execution_count": 7,
   "metadata": {
    "scrolled": false
   },
   "outputs": [
    {
     "ename": "KeyboardInterrupt",
     "evalue": "",
     "output_type": "error",
     "traceback": [
      "\u001b[0;31m---------------------------------------------------------------------------\u001b[0m",
      "\u001b[0;31mKeyboardInterrupt\u001b[0m                         Traceback (most recent call last)",
      "\u001b[0;32m<ipython-input-7-9672c8a3a0b1>\u001b[0m in \u001b[0;36m<module>\u001b[0;34m()\u001b[0m\n\u001b[1;32m     41\u001b[0m \u001b[0;34m\u001b[0m\u001b[0m\n\u001b[1;32m     42\u001b[0m         \u001b[0max\u001b[0m \u001b[0;34m=\u001b[0m \u001b[0mf\u001b[0m\u001b[0;34m.\u001b[0m\u001b[0madd_subplot\u001b[0m\u001b[0;34m(\u001b[0m\u001b[0mNneurons_obs\u001b[0m\u001b[0;34m,\u001b[0m\u001b[0mNneurons_obs\u001b[0m\u001b[0;34m,\u001b[0m\u001b[0msp\u001b[0m\u001b[0;34m)\u001b[0m\u001b[0;34m\u001b[0m\u001b[0m\n\u001b[0;32m---> 43\u001b[0;31m         \u001b[0mbar\u001b[0m\u001b[0;34m(\u001b[0m\u001b[0msteps\u001b[0m\u001b[0;34m,\u001b[0m\u001b[0mcg\u001b[0m\u001b[0;34m,\u001b[0m\u001b[0mwidth\u001b[0m\u001b[0;34m=\u001b[0m\u001b[0mstepsize\u001b[0m\u001b[0;34m,\u001b[0m\u001b[0mfacecolor\u001b[0m\u001b[0;34m=\u001b[0m\u001b[0mcol\u001b[0m\u001b[0;34m)\u001b[0m\u001b[0;34m\u001b[0m\u001b[0m\n\u001b[0m\u001b[1;32m     44\u001b[0m         \u001b[0;32mif\u001b[0m \u001b[0mi_N\u001b[0m\u001b[0;34m<\u001b[0m\u001b[0;34m(\u001b[0m\u001b[0mNneurons_obs\u001b[0m\u001b[0;34m-\u001b[0m\u001b[0;36m1\u001b[0m\u001b[0;34m)\u001b[0m\u001b[0;34m*\u001b[0m\u001b[0mNneurons_obs\u001b[0m\u001b[0;34m:\u001b[0m\u001b[0;34m\u001b[0m\u001b[0m\n\u001b[1;32m     45\u001b[0m             \u001b[0max\u001b[0m\u001b[0;34m.\u001b[0m\u001b[0mset_xticks\u001b[0m\u001b[0;34m(\u001b[0m\u001b[0;34m[\u001b[0m\u001b[0;34m]\u001b[0m\u001b[0;34m)\u001b[0m\u001b[0;34m\u001b[0m\u001b[0m\n",
      "\u001b[0;32m/Library/Frameworks/Python.framework/Versions/2.7/lib/python2.7/site-packages/matplotlib/pyplot.pyc\u001b[0m in \u001b[0;36mbar\u001b[0;34m(*args, **kwargs)\u001b[0m\n\u001b[1;32m   2773\u001b[0m                       mplDeprecation)\n\u001b[1;32m   2774\u001b[0m     \u001b[0;32mtry\u001b[0m\u001b[0;34m:\u001b[0m\u001b[0;34m\u001b[0m\u001b[0m\n\u001b[0;32m-> 2775\u001b[0;31m         \u001b[0mret\u001b[0m \u001b[0;34m=\u001b[0m \u001b[0max\u001b[0m\u001b[0;34m.\u001b[0m\u001b[0mbar\u001b[0m\u001b[0;34m(\u001b[0m\u001b[0;34m*\u001b[0m\u001b[0margs\u001b[0m\u001b[0;34m,\u001b[0m \u001b[0;34m**\u001b[0m\u001b[0mkwargs\u001b[0m\u001b[0;34m)\u001b[0m\u001b[0;34m\u001b[0m\u001b[0m\n\u001b[0m\u001b[1;32m   2776\u001b[0m     \u001b[0;32mfinally\u001b[0m\u001b[0;34m:\u001b[0m\u001b[0;34m\u001b[0m\u001b[0m\n\u001b[1;32m   2777\u001b[0m         \u001b[0max\u001b[0m\u001b[0;34m.\u001b[0m\u001b[0m_hold\u001b[0m \u001b[0;34m=\u001b[0m \u001b[0mwashold\u001b[0m\u001b[0;34m\u001b[0m\u001b[0m\n",
      "\u001b[0;32m/Library/Frameworks/Python.framework/Versions/2.7/lib/python2.7/site-packages/matplotlib/__init__.pyc\u001b[0m in \u001b[0;36minner\u001b[0;34m(ax, *args, **kwargs)\u001b[0m\n\u001b[1;32m   1865\u001b[0m                         \u001b[0;34m\"the Matplotlib list!)\"\u001b[0m \u001b[0;34m%\u001b[0m \u001b[0;34m(\u001b[0m\u001b[0mlabel_namer\u001b[0m\u001b[0;34m,\u001b[0m \u001b[0mfunc\u001b[0m\u001b[0;34m.\u001b[0m\u001b[0m__name__\u001b[0m\u001b[0;34m)\u001b[0m\u001b[0;34m,\u001b[0m\u001b[0;34m\u001b[0m\u001b[0m\n\u001b[1;32m   1866\u001b[0m                         RuntimeWarning, stacklevel=2)\n\u001b[0;32m-> 1867\u001b[0;31m             \u001b[0;32mreturn\u001b[0m \u001b[0mfunc\u001b[0m\u001b[0;34m(\u001b[0m\u001b[0max\u001b[0m\u001b[0;34m,\u001b[0m \u001b[0;34m*\u001b[0m\u001b[0margs\u001b[0m\u001b[0;34m,\u001b[0m \u001b[0;34m**\u001b[0m\u001b[0mkwargs\u001b[0m\u001b[0;34m)\u001b[0m\u001b[0;34m\u001b[0m\u001b[0m\n\u001b[0m\u001b[1;32m   1868\u001b[0m \u001b[0;34m\u001b[0m\u001b[0m\n\u001b[1;32m   1869\u001b[0m         inner.__doc__ = _add_data_doc(inner.__doc__,\n",
      "\u001b[0;32m/Library/Frameworks/Python.framework/Versions/2.7/lib/python2.7/site-packages/matplotlib/axes/_axes.pyc\u001b[0m in \u001b[0;36mbar\u001b[0;34m(self, *args, **kwargs)\u001b[0m\n\u001b[1;32m   2281\u001b[0m                 \u001b[0medgecolor\u001b[0m\u001b[0;34m=\u001b[0m\u001b[0me\u001b[0m\u001b[0;34m,\u001b[0m\u001b[0;34m\u001b[0m\u001b[0m\n\u001b[1;32m   2282\u001b[0m                 \u001b[0mlinewidth\u001b[0m\u001b[0;34m=\u001b[0m\u001b[0mlw\u001b[0m\u001b[0;34m,\u001b[0m\u001b[0;34m\u001b[0m\u001b[0m\n\u001b[0;32m-> 2283\u001b[0;31m                 \u001b[0mlabel\u001b[0m\u001b[0;34m=\u001b[0m\u001b[0;34m'_nolegend_'\u001b[0m\u001b[0;34m,\u001b[0m\u001b[0;34m\u001b[0m\u001b[0m\n\u001b[0m\u001b[1;32m   2284\u001b[0m                 )\n\u001b[1;32m   2285\u001b[0m             \u001b[0mr\u001b[0m\u001b[0;34m.\u001b[0m\u001b[0mupdate\u001b[0m\u001b[0;34m(\u001b[0m\u001b[0mkwargs\u001b[0m\u001b[0;34m)\u001b[0m\u001b[0;34m\u001b[0m\u001b[0m\n",
      "\u001b[0;32m/Library/Frameworks/Python.framework/Versions/2.7/lib/python2.7/site-packages/matplotlib/patches.pyc\u001b[0m in \u001b[0;36m__init__\u001b[0;34m(self, xy, width, height, angle, **kwargs)\u001b[0m\n\u001b[1;32m    684\u001b[0m         \"\"\"\n\u001b[1;32m    685\u001b[0m \u001b[0;34m\u001b[0m\u001b[0m\n\u001b[0;32m--> 686\u001b[0;31m         \u001b[0mPatch\u001b[0m\u001b[0;34m.\u001b[0m\u001b[0m__init__\u001b[0m\u001b[0;34m(\u001b[0m\u001b[0mself\u001b[0m\u001b[0;34m,\u001b[0m \u001b[0;34m**\u001b[0m\u001b[0mkwargs\u001b[0m\u001b[0;34m)\u001b[0m\u001b[0;34m\u001b[0m\u001b[0m\n\u001b[0m\u001b[1;32m    687\u001b[0m \u001b[0;34m\u001b[0m\u001b[0m\n\u001b[1;32m    688\u001b[0m         \u001b[0mself\u001b[0m\u001b[0;34m.\u001b[0m\u001b[0m_x0\u001b[0m \u001b[0;34m=\u001b[0m \u001b[0mxy\u001b[0m\u001b[0;34m[\u001b[0m\u001b[0;36m0\u001b[0m\u001b[0;34m]\u001b[0m\u001b[0;34m\u001b[0m\u001b[0m\n",
      "\u001b[0;32m/Library/Frameworks/Python.framework/Versions/2.7/lib/python2.7/site-packages/matplotlib/patches.pyc\u001b[0m in \u001b[0;36m__init__\u001b[0;34m(self, edgecolor, facecolor, color, linewidth, linestyle, antialiased, hatch, fill, capstyle, joinstyle, **kwargs)\u001b[0m\n\u001b[1;32m     93\u001b[0m         \u001b[0mself\u001b[0m\u001b[0;34m.\u001b[0m\u001b[0mset_fill\u001b[0m\u001b[0;34m(\u001b[0m\u001b[0mfill\u001b[0m\u001b[0;34m)\u001b[0m\u001b[0;34m\u001b[0m\u001b[0m\n\u001b[1;32m     94\u001b[0m         \u001b[0mself\u001b[0m\u001b[0;34m.\u001b[0m\u001b[0mset_linestyle\u001b[0m\u001b[0;34m(\u001b[0m\u001b[0mlinestyle\u001b[0m\u001b[0;34m)\u001b[0m\u001b[0;34m\u001b[0m\u001b[0m\n\u001b[0;32m---> 95\u001b[0;31m         \u001b[0mself\u001b[0m\u001b[0;34m.\u001b[0m\u001b[0mset_linewidth\u001b[0m\u001b[0;34m(\u001b[0m\u001b[0mlinewidth\u001b[0m\u001b[0;34m)\u001b[0m\u001b[0;34m\u001b[0m\u001b[0m\n\u001b[0m\u001b[1;32m     96\u001b[0m         \u001b[0mself\u001b[0m\u001b[0;34m.\u001b[0m\u001b[0mset_antialiased\u001b[0m\u001b[0;34m(\u001b[0m\u001b[0mantialiased\u001b[0m\u001b[0;34m)\u001b[0m\u001b[0;34m\u001b[0m\u001b[0m\n\u001b[1;32m     97\u001b[0m         \u001b[0mself\u001b[0m\u001b[0;34m.\u001b[0m\u001b[0mset_hatch\u001b[0m\u001b[0;34m(\u001b[0m\u001b[0mhatch\u001b[0m\u001b[0;34m)\u001b[0m\u001b[0;34m\u001b[0m\u001b[0m\n",
      "\u001b[0;32m/Library/Frameworks/Python.framework/Versions/2.7/lib/python2.7/site-packages/matplotlib/patches.pyc\u001b[0m in \u001b[0;36mset_linewidth\u001b[0;34m(self, w)\u001b[0m\n\u001b[1;32m    365\u001b[0m         self._dashoffset, self._dashes = mlines._scale_dashes(\n\u001b[1;32m    366\u001b[0m             offset, ls, self._linewidth)\n\u001b[0;32m--> 367\u001b[0;31m         \u001b[0mself\u001b[0m\u001b[0;34m.\u001b[0m\u001b[0mstale\u001b[0m \u001b[0;34m=\u001b[0m \u001b[0mTrue\u001b[0m\u001b[0;34m\u001b[0m\u001b[0m\n\u001b[0m\u001b[1;32m    368\u001b[0m \u001b[0;34m\u001b[0m\u001b[0m\n\u001b[1;32m    369\u001b[0m     \u001b[0;32mdef\u001b[0m \u001b[0mset_lw\u001b[0m\u001b[0;34m(\u001b[0m\u001b[0mself\u001b[0m\u001b[0;34m,\u001b[0m \u001b[0mlw\u001b[0m\u001b[0;34m)\u001b[0m\u001b[0;34m:\u001b[0m\u001b[0;34m\u001b[0m\u001b[0m\n",
      "\u001b[0;32m/Library/Frameworks/Python.framework/Versions/2.7/lib/python2.7/site-packages/matplotlib/artist.pyc\u001b[0m in \u001b[0;36mstale\u001b[0;34m(self, val)\u001b[0m\n\u001b[1;32m    228\u001b[0m         \u001b[0;32mreturn\u001b[0m \u001b[0mself\u001b[0m\u001b[0;34m.\u001b[0m\u001b[0m_stale\u001b[0m\u001b[0;34m\u001b[0m\u001b[0m\n\u001b[1;32m    229\u001b[0m \u001b[0;34m\u001b[0m\u001b[0m\n\u001b[0;32m--> 230\u001b[0;31m     \u001b[0;34m@\u001b[0m\u001b[0mstale\u001b[0m\u001b[0;34m.\u001b[0m\u001b[0msetter\u001b[0m\u001b[0;34m\u001b[0m\u001b[0m\n\u001b[0m\u001b[1;32m    231\u001b[0m     \u001b[0;32mdef\u001b[0m \u001b[0mstale\u001b[0m\u001b[0;34m(\u001b[0m\u001b[0mself\u001b[0m\u001b[0;34m,\u001b[0m \u001b[0mval\u001b[0m\u001b[0;34m)\u001b[0m\u001b[0;34m:\u001b[0m\u001b[0;34m\u001b[0m\u001b[0m\n\u001b[1;32m    232\u001b[0m         \u001b[0mself\u001b[0m\u001b[0;34m.\u001b[0m\u001b[0m_stale\u001b[0m \u001b[0;34m=\u001b[0m \u001b[0mval\u001b[0m\u001b[0;34m\u001b[0m\u001b[0m\n",
      "\u001b[0;31mKeyboardInterrupt\u001b[0m: "
     ]
    },
    {
     "data": {
      "image/png": "[encoded data removed]",
      "text/plain": [
       "<Figure size 720x720 with 278 Axes>"
      ]
     },
     "metadata": {},
     "output_type": "display_data"
    }
   ],
   "source": [
    "def crosscorr(x1,x2,steps):\n",
    "    ac = np.array([np.correlate(x1[:-t],x2[t:])[0] for t in steps[steps>0]])\n",
    "    ac = np.insert(ac,0,np.correlate(x1,x2)[0])\n",
    "    ac2 = np.array([np.correlate(x1[t:],x2[:-t])[0] for t in abs(steps[steps<0])])\n",
    "    ac = np.concatenate([ac2,ac])\n",
    "    return ac\n",
    "\n",
    "# binary spike matrix for correlation\n",
    "spikes = np.zeros((Nneurons_obs,int(sim_t)*1000))\n",
    "for i_N in range(Nneurons_obs):\n",
    "    spikes[i_N,Spt_dict[i_N].astype(int)] = 1.0\n",
    "        \n",
    "        \n",
    "obs_time = 300 #sec of raster to use\n",
    "stepsize = 1 #ms\n",
    "\n",
    "maxlag = 40.0 #ms\n",
    "steps = np.arange(-int(maxlag),int(maxlag)+1,stepsize) #omit 0 lag\n",
    "\n",
    "f = figure(figsize=(10,10))\n",
    "suptitle('Cross correlogram of observed neurons')\n",
    "sp = 1\n",
    "Jcg = np.zeros((Nneurons_obs,Nneurons_obs))\n",
    "for i_N in range(Nneurons_obs):\n",
    "    for j_N in range(Nneurons_obs):\n",
    "        x1 = spikes[i_N,:obs_time*1000]\n",
    "        x2 = spikes[j_N,:obs_time*1000]\n",
    "\n",
    "        cg = crosscorr(x1,x2,steps)\n",
    "        if i_N==j_N:\n",
    "            cg[len(cg)/2] = 0\n",
    "        \n",
    "        col = [0.4,0.4,0.4]\n",
    "        if i_N==j_N:\n",
    "            col = [1,0.6,0]\n",
    "        elif Jmat_obs[i_N,j_N]>0:\n",
    "            col = [1,0.3,0.3]\n",
    "        elif Jmat_obs[i_N,j_N]<0:\n",
    "            col = [0,0.6,0.9]\n",
    "        #Jcg[j_N,i_N] = cg[len(cg)/2+1] - np.mean(cg)\n",
    "            \n",
    "        ax = f.add_subplot(Nneurons_obs,Nneurons_obs,sp)\n",
    "        bar(steps,cg,width=stepsize,facecolor=col)\n",
    "        if i_N<(Nneurons_obs-1)*Nneurons_obs:\n",
    "            ax.set_xticks([])\n",
    "        \n",
    "        ax.set_yticks([])\n",
    "        box()\n",
    "        sp += 1\n",
    "show()\n",
    "\n",
    "print 'Red: neuron of row ID excites neuron of column ID'\n",
    "\n",
    "# visualize connectivity matrix    \n",
    "figure(figsize=(6,5))\n",
    "subplot(111)\n",
    "imshow(Jmat_obs, origin='upper', interpolation='nearest', \n",
    "           aspect='auto', cmap=plt.cm.jet)\n",
    "title('true coupling matrix')\n",
    "colorbar()\n",
    "axis('off')\n",
    "show()    "
   ]
  },
  {
   "cell_type": "code",
   "execution_count": null,
   "metadata": {},
   "outputs": [],
   "source": []
  }
 ],
 "metadata": {
  "kernelspec": {
   "display_name": "Python 2",
   "language": "python",
   "name": "python2"
  },
  "language_info": {
   "codemirror_mode": {
    "name": "ipython",
    "version": 2
   },
   "file_extension": ".py",
   "mimetype": "text/x-python",
   "name": "python",
   "nbconvert_exporter": "python",
   "pygments_lexer": "ipython2",
   "version": "2.7.15"
  }
 },
 "nbformat": 4,
 "nbformat_minor": 2
}
