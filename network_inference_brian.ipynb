{
 "cells": [
  {
   "cell_type": "markdown",
   "metadata": {},
   "source": [
    "# Network inference from Brian network"
   ]
  },
  {
   "cell_type": "code",
   "execution_count": 1,
   "metadata": {},
   "outputs": [],
   "source": [
    "from brian2 import *\n",
    "%matplotlib inline"
   ]
  },
  {
   "cell_type": "code",
   "execution_count": 2,
   "metadata": {},
   "outputs": [],
   "source": [
    "def visualise_connectivity(S):\n",
    "    Ns = len(S.source)\n",
    "    Nt = len(S.target)\n",
    "    figure(figsize=(10, 4))\n",
    "    subplot(121)\n",
    "    plot(zeros(Ns), arange(Ns), 'ok', ms=10)\n",
    "    plot(ones(Nt), arange(Nt), 'ok', ms=10)\n",
    "    for i, j in zip(S.i, S.j):\n",
    "        plot([0, 1], [i, j], '-k')\n",
    "    xticks([0, 1], ['Source', 'Target'])\n",
    "    ylabel('Neuron index')\n",
    "    xlim(-0.1, 1.1)\n",
    "    ylim(-1, max(Ns, Nt))\n",
    "    subplot(122)\n",
    "    plot(S.i, S.j, 'ok')\n",
    "    xlim(-1, Ns)\n",
    "    ylim(-1, Nt)\n",
    "    xlabel('Source neuron index')\n",
    "    ylabel('Target neuron index')"
   ]
  },
  {
   "cell_type": "markdown",
   "metadata": {},
   "source": [
    "### Network"
   ]
  },
  {
   "cell_type": "code",
   "execution_count": 13,
   "metadata": {},
   "outputs": [
    {
     "name": "stdout",
     "output_type": "stream",
     "text": [
      "('Number of excitatory neurons:', 75)\n",
      "('Number of inhibitory neurons:', 25)\n"
     ]
    },
    {
     "data": {
      "text/plain": [
       "(-0.5, 5.5, 5.5, -0.5)"
      ]
     },
     "execution_count": 13,
     "metadata": {},
     "output_type": "execute_result"
    },
    {
     "data": {
      "image/png": "[encoded data removed]",
      "text/plain": [
       "<Figure size 432x288 with 1 Axes>"
      ]
     },
     "metadata": {},
     "output_type": "display_data"
    },
    {
     "data": {
      "image/png": "[encoded data removed]",
      "text/plain": [
       "<Figure size 432x360 with 2 Axes>"
      ]
     },
     "metadata": {},
     "output_type": "display_data"
    }
   ],
   "source": [
    "######################\n",
    "##### PARAMETERS #####\n",
    "######################\n",
    "\n",
    "Nneurons_obs = 6  # number of neurons whose spike trains are observed\n",
    "Nneurons_tot = 100  # number of neurons in total;\n",
    "N_e = int(0.75*Nneurons_tot) #number of excitatory neurons\n",
    "N_i = Nneurons_tot - N_e #number of inhibitory neurons\n",
    "\n",
    "sim_t = 1*second #simulation time\n",
    "\n",
    "# neuron model parameters:\n",
    "taum = 20*ms\n",
    "taue = 5*ms\n",
    "taui = 10*ms\n",
    "Vt = -50*mV\n",
    "Vr = -60*mV\n",
    "El = -49*mV\n",
    "T_ref = 5*ms\n",
    "pe = 0.02 #excitatory connection probability\n",
    "pi = 0.02 #inhibitory connection probability\n",
    "\n",
    "# input parameters:\n",
    "np.random.seed(20)\n",
    "mu_vals = -1.75 * (0.8 + 0.4*np.random.rand(Nneurons_tot))  # mV/ms, input mean\n",
    "sigma_vals = 2.5 * (0.8 + 0.4*np.random.rand(Nneurons_tot))  # mV/sqrt(ms), input\n",
    "                                                             # standard deviation\n",
    "\n",
    "## parameters for data generation:\n",
    "#d = 1.0  # ms, delay\n",
    "#input_cc = 0.0  # determines the correlation strength of external input fluctuations \n",
    "                # for each pair in the network \n",
    "\n",
    "\n",
    "print('Number of excitatory neurons:',N_e)\n",
    "print('Number of inhibitory neurons:',N_i)\n",
    "\n",
    "######################\n",
    "###### NETWORK #######\n",
    "######################\n",
    "\n",
    "start_scope()\n",
    "\n",
    "eqs = '''\n",
    "dv/dt  = (ge+gi-(v-El))/taum : volt (unless refractory)\n",
    "dge/dt = -ge/taue : volt\n",
    "dgi/dt = -gi/taui : volt\n",
    "'''\n",
    "\n",
    "# neurons\n",
    "G = NeuronGroup(Nneurons_tot, eqs,method='exact',\n",
    "                threshold='v>Vt',\n",
    "                reset='v=Vr',\n",
    "                refractory=T_ref)\n",
    "\n",
    "# intial values\n",
    "G.v = 'Vr + rand() * (Vt - Vr)'\n",
    "G.ge = 0.0\n",
    "G.gi = 0.0\n",
    "#G.mu = mu_vals*mV/ms\n",
    "\n",
    "# synapses\n",
    "Se = Synapses(G, G, 'we:volt', on_pre='ge += we')\n",
    "Si = Synapses(G, G, 'wi:volt', on_pre='gi += wi')\n",
    "Se.connect('i<=N_e and i!=j',p=pe)\n",
    "Si.connect('i>N_e and i!=j',p=pi)\n",
    "Se.we = np.random.rand(len(Se.i))*mV # random excitatory synaptic weight (voltage)\n",
    "Si.wi = -np.random.rand(len(Si.i))*mV # random inhibitory synaptic weight\n",
    "\n",
    "# voltage\n",
    "statemon = StateMonitor(G,'v',record=True)\n",
    "\n",
    "# spikes\n",
    "spikemon = SpikeMonitor(G)\n",
    "\n",
    "run(sim_t)\n",
    "\n",
    "# spiketimes of observed neurons into dictionary for connectivity inference later\n",
    "obs_neurons_ind = np.random.permutation(Nneurons_tot)[:Nneurons_obs]\n",
    "Spt_dict = {}\n",
    "for i_N,id_N in enumerate(obs_neurons_ind):\n",
    "    Spt_dict[i_N] = spikemon.t[id_N]*ms\n",
    "\n",
    "## visualize voltage\n",
    "#figure()\n",
    "#plot(statemon.t,statemon.v[obs_neurons_ind].T)\n",
    "\n",
    "# visualize spikes\n",
    "figure()\n",
    "plot(spikemon.t/ms,spikemon.i,'k,')\n",
    "xlabel('Time (ms)')\n",
    "ylabel('Neuron index')\n",
    "\n",
    "## visualize connections\n",
    "#visualise_connectivity(Se)\n",
    "#visualise_connectivity(Si)\n",
    "\n",
    "# visualize weights\n",
    "\n",
    "Jmat = np.zeros((Nneurons_tot,Nneurons_tot))\n",
    "for c in range(len(Se.i)):\n",
    "    Jmat[Se.i[c],Se.j[c]] = Se.we[c]*10**3\n",
    "for c in range(len(Si.i)):\n",
    "    Jmat[Si.i[c],Si.j[c]] = Si.wi[c]*10**3\n",
    "    \n",
    "Jmat_obs = Jmat[obs_neurons_ind,:][:,obs_neurons_ind] #connectivity matrix of observed neurons\n",
    "\n",
    "figure(figsize=(6,5))\n",
    "subplot(111)\n",
    "imshow(Jmat_obs, origin='upper', interpolation='nearest', \n",
    "           aspect='auto', vmin=-1.0, vmax=1.0, cmap=plt.cm.jet)\n",
    "title('true coupling matrix')\n",
    "colorbar()\n",
    "axis('off')"
   ]
  },
  {
   "cell_type": "markdown",
   "metadata": {},
   "source": [
    "### Estimation"
   ]
  },
  {
   "cell_type": "code",
   "execution_count": 30,
   "metadata": {
    "scrolled": true
   },
   "outputs": [
    {
     "name": "stdout",
     "output_type": "stream",
     "text": [
      "6\n",
      "starting estimation using 3 parallel processes\n",
      "\n",
      "likelihood optimization can take several minutes...\n",
      "<multiprocessing.pool.IMapUnorderedIterator object at 0x11841ff90>\n"
     ]
    },
    {
     "ename": "AxisError",
     "evalue": "axis -1 is out of bounds for array of dimension 0",
     "output_type": "error",
     "traceback": [
      "\u001b[0;31m---------------------------------------------------------------------------\u001b[0m",
      "\u001b[0;31mAxisError\u001b[0m                                 Traceback (most recent call last)",
      "\u001b[0;32m<ipython-input-30-c22a29d13099>\u001b[0m in \u001b[0;36m<module>\u001b[0;34m()\u001b[0m\n\u001b[1;32m     77\u001b[0m \u001b[0;34m\u001b[0m\u001b[0m\n\u001b[1;32m     78\u001b[0m \u001b[0mfinished\u001b[0m \u001b[0;34m=\u001b[0m \u001b[0;36m0\u001b[0m\u001b[0;34m\u001b[0m\u001b[0m\n\u001b[0;32m---> 79\u001b[0;31m \u001b[0;32mfor\u001b[0m \u001b[0mi_N\u001b[0m\u001b[0;34m,\u001b[0m \u001b[0mmu_estim\u001b[0m\u001b[0;34m,\u001b[0m \u001b[0msigma_estim\u001b[0m\u001b[0;34m,\u001b[0m \u001b[0mlogl_uncoupled\u001b[0m\u001b[0;34m,\u001b[0m     \u001b[0mJ_estim_row\u001b[0m\u001b[0;34m,\u001b[0m \u001b[0mlogl_coupled_row\u001b[0m \u001b[0;32min\u001b[0m \u001b[0mresult\u001b[0m\u001b[0;34m:\u001b[0m\u001b[0;34m\u001b[0m\u001b[0m\n\u001b[0m\u001b[1;32m     80\u001b[0m     \u001b[0mfinished\u001b[0m \u001b[0;34m+=\u001b[0m \u001b[0;36m1\u001b[0m\u001b[0;34m\u001b[0m\u001b[0m\n\u001b[1;32m     81\u001b[0m     print(('{count} of {tot} estimation parts completed').\n",
      "\u001b[0;32m/Library/Frameworks/Python.framework/Versions/2.7/lib/python2.7/multiprocessing/pool.pyc\u001b[0m in \u001b[0;36mnext\u001b[0;34m(self, timeout)\u001b[0m\n\u001b[1;32m    671\u001b[0m         \u001b[0;32mif\u001b[0m \u001b[0msuccess\u001b[0m\u001b[0;34m:\u001b[0m\u001b[0;34m\u001b[0m\u001b[0m\n\u001b[1;32m    672\u001b[0m             \u001b[0;32mreturn\u001b[0m \u001b[0mvalue\u001b[0m\u001b[0;34m\u001b[0m\u001b[0m\n\u001b[0;32m--> 673\u001b[0;31m         \u001b[0;32mraise\u001b[0m \u001b[0mvalue\u001b[0m\u001b[0;34m\u001b[0m\u001b[0m\n\u001b[0m\u001b[1;32m    674\u001b[0m \u001b[0;34m\u001b[0m\u001b[0m\n\u001b[1;32m    675\u001b[0m     \u001b[0m__next__\u001b[0m \u001b[0;34m=\u001b[0m \u001b[0mnext\u001b[0m                    \u001b[0;31m# XXX\u001b[0m\u001b[0;34m\u001b[0m\u001b[0m\n",
      "\u001b[0;31mAxisError\u001b[0m: axis -1 is out of bounds for array of dimension 0"
     ]
    }
   ],
   "source": [
    "import multiprocessing\n",
    "import inference_methods as im\n",
    "\n",
    "# ESTIMATION PARAMETERS\n",
    "params = {}\n",
    "# parameters for estimation (method 1a)\n",
    "params['pISI_method'] = 'fourier'\n",
    "f_max = 2000.0 # Hz, determines resolution (accuracy) of ISI density; \n",
    "               # 1k seems sufficient in many cases, for finer resolution try 2k or 4k\n",
    "d_freq = 0.25 # Hz, spacing of frequency grid\n",
    "d_V = 0.025  # mV, spacing of voltage grid\n",
    "params['V_s'] = Vt/mV  # mV, spike voltage\n",
    "params['V_r'] = Vr/mV  # mV, spike voltage\n",
    "params['V_lb'] = -150.0  # mV, lower bound\n",
    "params['V_vals'] = np.arange(params['V_lb'],params['V_s']+d_V/2,d_V)\n",
    "params['freq_vals'] = np.arange(0.0, f_max+d_freq/2, d_freq)/1000  # kHz\n",
    "params['V_r_idx'] = np.argmin(np.abs(params['V_vals']-params['V_r'])) \n",
    "                    # index of reset voltage on grid, this should be a grid point\n",
    "\n",
    "\n",
    "# parameters for estimation when using the finite volume method instead of the \n",
    "# Fourier method to calculate p_ISI^1, which is optional (and often faster)\n",
    "use_fvm = True  # False: using Fourier method\n",
    "if use_fvm:\n",
    "    params['pISI_method'] = 'fvm' \n",
    "    d_V = 0.025  # mV, spacing of voltage grid\n",
    "    params['V_lb'] = -150.0  # mV, lower bound\n",
    "    params['V_vals'] = np.arange(params['V_lb'],params['V_s']+d_V/2,d_V)\n",
    "    params['V_r_idx'] = np.argmin(np.abs(params['V_vals']-params['V_r'])) \n",
    "                        # index of reset voltage on grid, this should be a grid point\n",
    "    params['neuron_model'] = 'LIF'\n",
    "    params['integration_method'] = 'implicit'\n",
    "    params['N_centers_fvm'] = 1000  # number of centers for voltage discretization\n",
    "    params['fvm_v_init'] = 'delta'  # voltage density initialization\n",
    "    params['fvm_delta_peak'] = params['V_r']  # location of initial density peak\n",
    "    params['fvm_dt'] = 0.1  # ms, time step for finite volume method\n",
    "                            # 0.1 seems ok, prev. def.: 0.05 ms \n",
    "\n",
    "sigma_init = 3.0  # initial sigma value (initial mu value will be determined by \n",
    "                  # sigma_init and empirical mean ISI)\n",
    "N_tpert = 300  # determines spacing of (potential) perturbation times within ISIs\n",
    "               # due to coupling; def.: 300            \n",
    "J_bnds = (-3.0, 3.0)  # mV, min./max. coupling strength \n",
    "N_procs = int(5.0*multiprocessing.cpu_count()/6)  # number of parallel processes                \n",
    "             \n",
    "                \n",
    "        \n",
    "# ESTIMATE PARAMETERS from spike trains -----------------------------------\n",
    "start = time.time()\n",
    "N = len(Spt_dict.keys())\n",
    "print(N)\n",
    "args_fixed = (Spt_dict, d, sigma_init, N_tpert, J_bnds, Jmat, params)      \n",
    "arg_tuple_list = [(iN, N, args_fixed) for iN in range(N)]    \n",
    "                                                          \n",
    "print('starting estimation using {} parallel processes'.format(N_procs))\n",
    "# e.g., one process for each neuron\n",
    "print('')\n",
    "print('likelihood optimization can take several minutes...')\n",
    "pool = multiprocessing.Pool(N_procs)\n",
    "if use_fvm:\n",
    "    result = pool.imap_unordered(im.Jij_estim_wrapper_v1, arg_tuple_list)\n",
    "else:\n",
    "    result = pool.imap_unordered(im.Jij_estim_wrapper_v2, arg_tuple_list)\n",
    "#result = map(im.Jij_estim_wrapper_v1, arg_tuple_list)  # single processing\n",
    "# Jij_estim_wrapper estimates all synaptic strengths for a given \n",
    "# post-synaptic neuron (with number iN)\n",
    "\n",
    "print(result)\n",
    "D = {}\n",
    "obs_neurons_id = list(Spt_dict.keys())\n",
    "D['J_true'] = Jmat_obs\n",
    "D['mu_estim'] = np.zeros(N)*np.nan\n",
    "D['sigma_estim'] = np.zeros(N)*np.nan\n",
    "D['logl_uncoupled'] = np.zeros(N)*np.nan\n",
    "D['J_estim'] = np.zeros((N,N))\n",
    "D['logl_coupled'] = np.zeros((N,N))*np.nan\n",
    "\n",
    "finished = 0 \n",
    "for i_N, mu_estim, sigma_estim, logl_uncoupled, \\\n",
    "    J_estim_row, logl_coupled_row in result:\n",
    "    finished += 1\n",
    "    print(('{count} of {tot} estimation parts completed').\n",
    "          format(count=finished, tot=N)) \n",
    "    D['mu_estim'][i_N] = mu_estim\n",
    "    D['sigma_estim'][i_N] = sigma_estim\n",
    "    D['logl_uncoupled'][i_N] = logl_uncoupled\n",
    "    D['J_estim'][i_N,:] = J_estim_row\n",
    "    D['logl_coupled'][i_N,:] = logl_coupled_row\n",
    "\n",
    "pool.close()\n",
    "Pcc = np.corrcoef(np.ravel(D['J_estim']),np.ravel(D['J_true']))\n",
    "print('')\n",
    "print('estimation took {dur}s, corr.-coeff. = {cc}'.format(\n",
    "       dur=np.round(time.time() - start,2), cc=Pcc[0,1]) )\n",
    "print('')\n",
    "         \n",
    "\n"
   ]
  },
  {
   "cell_type": "markdown",
   "metadata": {},
   "source": [
    "Here, the variable results is empty, so something is going wrong in pool.imap_unordered(im.Jij_estim_wrapper_v1, arg_tuple_list)\n"
   ]
  },
  {
   "cell_type": "code",
   "execution_count": 13,
   "metadata": {
    "scrolled": true
   },
   "outputs": [
    {
     "data": {
      "image/png": "[encoded data removed]",
      "text/plain": [
       "<Figure size 432x288 with 4 Axes>"
      ]
     },
     "metadata": {},
     "output_type": "display_data"
    },
    {
     "data": {
      "image/png": "[encoded data removed]",
      "text/plain": [
       "<Figure size 432x288 with 1 Axes>"
      ]
     },
     "metadata": {},
     "output_type": "display_data"
    }
   ],
   "source": [
    "# PLOT --------------------------------------------------------------------\n",
    "plt.figure()\n",
    "plt.subplot(121)\n",
    "plt.imshow(D['J_true'], origin='upper', interpolation='nearest', \n",
    "           aspect='auto', vmin=-1.0, vmax=1.0, cmap=plt.cm.jet)\n",
    "plt.title('true coupling matrix')\n",
    "plt.colorbar()\n",
    "plt.axis('off')\n",
    "plt.subplot(122)\n",
    "plt.imshow(D['J_estim'], origin='upper', interpolation='nearest', \n",
    "           aspect='auto', vmin=-1.0, vmax=1.0, cmap=plt.cm.jet)\n",
    "plt.title('estimated coupling matrix')\n",
    "plt.colorbar()\n",
    "plt.axis('off')\n",
    "\n",
    "plt.figure()\n",
    "ax = plt.subplot()\n",
    "idx = np.diag(np.ones(N))<1\n",
    "plt.plot(np.ravel(D['J_true'][idx]), np.ravel(D['J_estim'][idx]), 'ok', \n",
    "         markersize=4)\n",
    "plt.plot([-1, 1], [-1, 1], 'c--')\n",
    "plt.xlabel('true coupling strengths (mV)', fontsize=12)\n",
    "plt.ylabel('estimated coupling strengths (mV)', fontsize=12)\n",
    "ax.spines['right'].set_visible(False)\n",
    "ax.spines['top'].set_visible(False) \n",
    "ax.xaxis.set_ticks_position('bottom')\n",
    "ax.yaxis.set_ticks_position('left')"
   ]
  }
 ],
 "metadata": {
  "kernelspec": {
   "display_name": "Python 2",
   "language": "python",
   "name": "python2"
  },
  "language_info": {
   "codemirror_mode": {
    "name": "ipython",
    "version": 2
   },
   "file_extension": ".py",
   "mimetype": "text/x-python",
   "name": "python",
   "nbconvert_exporter": "python",
   "pygments_lexer": "ipython2",
   "version": "2.7.15"
  }
 },
 "nbformat": 4,
 "nbformat_minor": 2
}
